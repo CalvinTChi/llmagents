{
 "cells": [
  {
   "cell_type": "raw",
   "id": "5baa39e2-a075-4c64-b084-69a57b5797bb",
   "metadata": {
    "vscode": {
     "languageId": "raw"
    }
   },
   "source": [
    "---\n",
    "title: \"Context Engineering\"\n",
    "format:\n",
    "    html:\n",
    "jupyter: python3\n",
    "number-sections: true\n",
    "number-depth: 3\n",
    "bibliography: references.bib\n",
    "---"
   ]
  },
  {
   "cell_type": "markdown",
   "id": "a9dfd0b1-5037-4a3f-b80a-e480dda86044",
   "metadata": {},
   "source": [
    "LLMs are trending towards having longer context windows, capable of processing upwards of millions of tokens. This is regarded as beneficial overall, as larger contexts allow a model to process more information and solve more complex problems. However, research from Chroma showed that model performance degrades as context length increases, a phenomenom their research team coined \"context rot\" [@hong2025context].\n",
    "\n",
    "+ https://research.trychroma.com/context-rot \n",
    "+ https://www.philschmid.de/context-engineering\n",
    "+ https://blog.langchain.com/context-engineering-for-agents/\n"
   ]
  },
  {
   "cell_type": "markdown",
   "id": "a9f05404-7277-460b-9d90-8191d3e18d23",
   "metadata": {},
   "source": [
    "# References {.unnumbered}"
   ]
  }
 ],
 "metadata": {
  "kernelspec": {
   "display_name": "Python 3",
   "language": "python",
   "name": "python3"
  },
  "language_info": {
   "codemirror_mode": {
    "name": "ipython",
    "version": 3
   },
   "file_extension": ".py",
   "mimetype": "text/x-python",
   "name": "python",
   "nbconvert_exporter": "python",
   "pygments_lexer": "ipython3",
   "version": "3.10.13"
  }
 },
 "nbformat": 4,
 "nbformat_minor": 5
}
