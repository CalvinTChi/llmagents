{
 "cells": [
  {
   "cell_type": "raw",
   "id": "02cffc75-098d-4280-b829-413a2bfd4247",
   "metadata": {},
   "source": [
    "---\n",
    "title: \"Planning\"\n",
    "format:\n",
    "    html:\n",
    "jupyter: python3\n",
    "number-sections: true\n",
    "number-depth: 3\n",
    "bibliography: references.bib\n",
    "---"
   ]
  },
  {
   "cell_type": "markdown",
   "id": "06e680b3-fd87-4cb1-ba4e-871dcdac0dce",
   "metadata": {},
   "source": [
    "## ReWOO"
   ]
  },
  {
   "cell_type": "markdown",
   "id": "42ab190a-c516-43ad-9ac8-05142c00ac28",
   "metadata": {},
   "source": [
    "## Least-to-Most Prompting\n",
    "\n",
    "https://arxiv.org/abs/2205.10625"
   ]
  },
  {
   "cell_type": "code",
   "execution_count": null,
   "id": "49382d45-cbe5-4357-a6c9-ae69728813cc",
   "metadata": {},
   "outputs": [],
   "source": []
  }
 ],
 "metadata": {
  "kernelspec": {
   "display_name": "Python 3",
   "language": "python",
   "name": "python3"
  },
  "language_info": {
   "codemirror_mode": {
    "name": "ipython",
    "version": 3
   },
   "file_extension": ".py",
   "mimetype": "text/x-python",
   "name": "python",
   "nbconvert_exporter": "python",
   "pygments_lexer": "ipython3",
   "version": "3.10.13"
  }
 },
 "nbformat": 4,
 "nbformat_minor": 5
}
